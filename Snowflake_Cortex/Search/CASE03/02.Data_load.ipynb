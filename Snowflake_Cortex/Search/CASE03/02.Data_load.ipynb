{
 "cells": [
  {
   "cell_type": "markdown",
   "metadata": {},
   "source": [
    "## STEP02.Snowflake에 데이터 로드"
   ]
  },
  {
   "cell_type": "markdown",
   "metadata": {},
   "source": [
    "데이터가 포함된 파일을 저장하기 위해 Snowflake 스테이지를 생성합니다. 이 스테이지에는 회의록 PDF 파일이 보관됩니다."
   ]
  },
  {
   "cell_type": "code",
   "execution_count": null,
   "metadata": {
    "vscode": {
     "languageId": "sql"
    }
   },
   "outputs": [],
   "source": [
    "CREATE OR REPLACE STAGE cortex_search_tutorial_db.public.fomc\n",
    "    DIRECTORY = (ENABLE = TRUE)\n",
    "    ENCRYPTION = (TYPE = 'SNOWFLAKE_SSE');"
   ]
  },
  {
   "cell_type": "markdown",
   "metadata": {},
   "source": [
    "_※ 디렉터리와 암호화는 파일에 대한 presigned_url을 생성하도록 구성되어 있습니다._   \n",
    "_presigned_url을 생성할 필요가 없으면 이러한 구성을 건너뛸 수 있습니다._"
   ]
  },
  {
   "cell_type": "markdown",
   "metadata": {},
   "source": [
    "### Snowsight 업로드하기      \n",
    "1. Snowsight 에 로그인합니다.\n",
    "\n",
    "2. 왼쪽 탐색 메뉴에서 **Data** 를 선택합니다.\n",
    "\n",
    "3. **cortex_search_tutorial_db** 데이터베이스를 선택합니다.\n",
    "\n",
    "4. 스키마 **public** 을 선택합니다.\n",
    "\n",
    "5. **Stages** 를 선택하고 fomc 를 선택합니다.\n",
    "\n",
    "6. 오른쪽 상단에서 **+ Files** 버튼을 선택합니다.\n",
    "\n",
    "7. UI에 파일을 끌어서 놓거나 **Browse** 를 선택하여 대화 창에서 파일을 선택합니다.\n",
    "\n",
    "8. **Upload** 를 선택하여 파일을 업로드합니다."
   ]
  }
 ],
 "metadata": {
  "language_info": {
   "name": "python"
  }
 },
 "nbformat": 4,
 "nbformat_minor": 2
}
