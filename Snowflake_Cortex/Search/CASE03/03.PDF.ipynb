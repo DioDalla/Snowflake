{
 "cells": [
  {
   "cell_type": "markdown",
   "metadata": {},
   "source": [
    "## STEP03. PDF 파일 구문 분석"
   ]
  },
  {
   "cell_type": "markdown",
   "metadata": {},
   "source": [
    "다음을 수행하는 전처리 함수를 생성합니다.\n",
    "\n",
    "1. PDF 파일을 구문 분석하고 텍스트를 추출합니다.\n",
    "\n",
    "2. 인덱싱을 위해 텍스트를 작은 청크로 나눕니다."
   ]
  },
  {
   "cell_type": "code",
   "execution_count": null,
   "metadata": {
    "vscode": {
     "languageId": "sql"
    }
   },
   "outputs": [],
   "source": [
    "CREATE OR REPLACE FUNCTION cortex_search_tutorial_db.public.pdf_text_chunker(file_url STRING)\n",
    "    RETURNS TABLE (chunk VARCHAR)\n",
    "    LANGUAGE PYTHON\n",
    "    RUNTIME_VERSION = '3.9'\n",
    "    HANDLER = 'pdf_text_chunker'\n",
    "    PACKAGES = ('snowflake-snowpark-python', 'PyPDF2', 'langchain')\n",
    "    AS\n",
    "$$\n",
    "from snowflake.snowpark.types import StringType, StructField, StructType\n",
    "from langchain.text_splitter import RecursiveCharacterTextSplitter\n",
    "from snowflake.snowpark.files import SnowflakeFile\n",
    "import PyPDF2, io\n",
    "import logging\n",
    "import pandas as pd\n",
    "\n",
    "class pdf_text_chunker:\n",
    "\n",
    "    def read_pdf(self, file_url: str) -> str:\n",
    "        logger = logging.getLogger(\"udf_logger\")\n",
    "        logger.info(f\"Opening file {file_url}\")\n",
    "\n",
    "        with SnowflakeFile.open(file_url, 'rb') as f:\n",
    "            buffer = io.BytesIO(f.readall())\n",
    "\n",
    "        reader = PyPDF2.PdfReader(buffer)\n",
    "        text = \"\"\n",
    "        for page in reader.pages:\n",
    "            try:\n",
    "                text += page.extract_text().replace('\\n', ' ').replace('\\0', ' ')\n",
    "            except:\n",
    "                text = \"Unable to Extract\"\n",
    "                logger.warn(f\"Unable to extract from file {file_url}, page {page}\")\n",
    "\n",
    "        return text\n",
    "\n",
    "    def process(self, file_url: str):\n",
    "        text = self.read_pdf(file_url)\n",
    "\n",
    "        text_splitter = RecursiveCharacterTextSplitter(\n",
    "            chunk_size = 2000,  # Adjust this as needed\n",
    "            chunk_overlap = 300,  # Overlap to keep chunks contextual\n",
    "            length_function = len\n",
    "        )\n",
    "\n",
    "        chunks = text_splitter.split_text(text)\n",
    "        df = pd.DataFrame(chunks, columns=['chunk'])\n",
    "\n",
    "        yield from df.itertuples(index=False, name=None)\n",
    "$$;"
   ]
  },
  {
   "cell_type": "markdown",
   "metadata": {},
   "source": [
    "그런 다음 PDF 파일에서 구문 분석된 데이터를 보관할 테이블을 만듭니다."
   ]
  },
  {
   "cell_type": "code",
   "execution_count": null,
   "metadata": {
    "vscode": {
     "languageId": "sql"
    }
   },
   "outputs": [],
   "source": [
    "CREATE OR REPLACE TABLE cortex_search_tutorial_db.public.docs_chunks_table AS\n",
    "    SELECT\n",
    "        relative_path,\n",
    "        build_scoped_file_url(@cortex_search_tutorial_db.public.fomc, relative_path) AS file_url,\n",
    "        -- preserve file title information by concatenating relative_path with the chunk\n",
    "        CONCAT(relative_path, ': ', func.chunk) AS chunk,\n",
    "        'English' AS language\n",
    "    FROM\n",
    "        directory(@cortex_search_tutorial_db.public.fomc),\n",
    "        TABLE(cortex_search_tutorial_db.public.pdf_text_chunker(build_scoped_file_url(@cortex_search_tutorial_db.public.fomc, relative_path))) AS func;"
   ]
  },
  {
   "cell_type": "markdown",
   "metadata": {},
   "source": [
    "## STEP04.검색 서비스 만들기"
   ]
  },
  {
   "cell_type": "code",
   "execution_count": null,
   "metadata": {
    "vscode": {
     "languageId": "sql"
    }
   },
   "outputs": [],
   "source": [
    "CREATE CORTEX SEARCH SERVICE cortex_search_tutorial_db.public.books_dataset_service\n",
    "    ON CHUNK\n",
    "    WAREHOUSE = cortex_search_tutorial_wh\n",
    "    TARGET_LAG = '1 hour'\n",
    "    AS (\n",
    "        SELECT *\n",
    "        FROM cortex_search_tutorial_db.public.book_description_chunks\n",
    "    );"
   ]
  },
  {
   "cell_type": "markdown",
   "metadata": {},
   "source": [
    "이 명령은 검색 결과를 필터링할 수 있는 열인 attributes 와 웨어하우스 및 목표 지연 시간을 지정합니다. 검색 열은 소스 쿼리에서 기본 테이블에 있는 여러 텍스트 열의 연결로 생성되는 chunk 로 지정됩니다. 소스 쿼리의 다른 열은 검색 요청에 대한 응답으로 포함될 수 있습니다."
   ]
  },
  {
   "cell_type": "markdown",
   "metadata": {},
   "source": []
  }
 ],
 "metadata": {
  "language_info": {
   "name": "python"
  }
 },
 "nbformat": 4,
 "nbformat_minor": 2
}
