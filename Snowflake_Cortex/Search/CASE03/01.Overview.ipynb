{
 "cells": [
  {
   "cell_type": "markdown",
   "metadata": {},
   "source": [
    "## Case03 Cortex Search를 사용하여 PDF 챗봇 개발"
   ]
  },
  {
   "cell_type": "markdown",
   "metadata": {},
   "source": [
    "- Python UDF를 사용하여 스테이지의 PDF 파일 세트에서 텍스트를 추출합니다.\n",
    "\n",
    "- 추출된 텍스트에서 Cortex Search Service를 생성합니다.\n",
    "\n",
    "- PDF 문서에서 추출한 데이터에 대해 질문할 수 있는 Streamlit-in-Snowflake 채팅 앱을 생성"
   ]
  },
  {
   "cell_type": "markdown",
   "metadata": {},
   "source": [
    "### STEP01. 설정하기"
   ]
  },
  {
   "cell_type": "markdown",
   "metadata": {},
   "source": [
    "### PDF 데이터 가져오기"
   ]
  },
  {
   "cell_type": "markdown",
   "metadata": {},
   "source": [
    "연방공개시장위원회(FOMC) 회의록의 샘플 데이터 세트를 사용합니다. 이는 2023년과 2024년 FOMC 미팅의 미팅 노트가 포함된 10페이지 분량의 문서 12개 샘플입니다. 다음 링크를 따라 브라우저에서 직접 파일을 다운로드 합니다.  \n",
    "\n",
    "데이터 세트 : https://www.federalreserve.gov/monetarypolicy/fomccalendars.htm"
   ]
  },
  {
   "cell_type": "markdown",
   "metadata": {},
   "source": [
    "---"
   ]
  },
  {
   "cell_type": "markdown",
   "metadata": {},
   "source": [
    "### SNOWFLAKE   \n",
    "데이터베이스, 테이블, 웨어하우스 만들기"
   ]
  },
  {
   "cell_type": "code",
   "execution_count": null,
   "metadata": {
    "vscode": {
     "languageId": "sql"
    }
   },
   "outputs": [],
   "source": [
    "CREATE DATABASE IF NOT EXISTS cortex_search_tutorial_db;\n",
    "\n",
    "CREATE OR REPLACE WAREHOUSE cortex_search_tutorial_wh WITH\n",
    "     WAREHOUSE_SIZE='X-SMALL'\n",
    "     AUTO_SUSPEND = 120\n",
    "     AUTO_RESUME = TRUE\n",
    "     INITIALLY_SUSPENDED=TRUE;\n",
    "\n",
    " USE WAREHOUSE cortex_search_tutorial_wh;"
   ]
  },
  {
   "cell_type": "markdown",
   "metadata": {},
   "source": [
    "CREATE DATABASE 문으로 데이터베이스를 만듭니다. 데이터베이스에는 ‘public’이라는 스키마가 자동으로 포함됩니다.   \n",
    "CREATE WAREHOUSE 문으로 처음에 일시 중단되는 웨어하우스를 만듭니다. 또한 이 문으로 AUTO_RESUME = true 가 설정되어, 컴퓨팅 리소스가 필요한 SQL 문을 실행할 때 웨어하우스를 자동으로 시작하게 됩니다."
   ]
  }
 ],
 "metadata": {
  "language_info": {
   "name": "python"
  }
 },
 "nbformat": 4,
 "nbformat_minor": 2
}
