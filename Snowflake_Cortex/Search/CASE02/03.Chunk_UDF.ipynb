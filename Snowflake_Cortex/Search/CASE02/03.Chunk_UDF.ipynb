{
 "cells": [
  {
   "cell_type": "markdown",
   "metadata": {},
   "source": [
    "## STEP03. 청킹 UDF 만들기"
   ]
  },
  {
   "cell_type": "markdown",
   "metadata": {},
   "source": [
    "검색 모델은 소규모 텍스트 청크에서 가장 잘 작동하므로 긴 문서를 Cortex Search에 제공하면 성능이 저하됩니다. 그런 다음 Python UDF를 생성하여 텍스트를 청크한다."
   ]
  },
  {
   "cell_type": "markdown",
   "metadata": {},
   "source": [
    "청킹 이란 : https://wikidocs.net/265566"
   ]
  },
  {
   "cell_type": "code",
   "execution_count": null,
   "metadata": {
    "vscode": {
     "languageId": "sql"
    }
   },
   "outputs": [],
   "source": [
    "CREATE OR REPLACE FUNCTION cortex_search_tutorial_db.public.books_chunk(\n",
    "    description string, title string, authors string, category string, publisher string\n",
    ")\n",
    "    returns table (chunk string, title string, authors string, category string, publisher string)\n",
    "    language python\n",
    "    runtime_version = '3.9'\n",
    "    handler = 'text_chunker'\n",
    "    packages = ('snowflake-snowpark-python','langchain')\n",
    "    as\n",
    "$$\n",
    "from langchain.text_splitter import RecursiveCharacterTextSplitter\n",
    "import copy\n",
    "from typing import Optional\n",
    "\n",
    "class text_chunker:\n",
    "\n",
    "    def process(self, description: Optional[str], title: str, authors: str, category: str, publisher: str):\n",
    "        if description == None:\n",
    "            description = \"\" # handle null values\n",
    "\n",
    "        text_splitter = RecursiveCharacterTextSplitter(\n",
    "            chunk_size = 2000,\n",
    "            chunk_overlap  = 300,\n",
    "            length_function = len\n",
    "        )\n",
    "        chunks = text_splitter.split_text(description)\n",
    "        for chunk in chunks:\n",
    "            yield (title + \"\\n\" + authors + \"\\n\" + chunk, title, authors, category, publisher) # always chunk with title\n",
    "$$;"
   ]
  },
  {
   "cell_type": "markdown",
   "metadata": {},
   "source": [
    "## STEP04.청크 테이블 만들기"
   ]
  },
  {
   "cell_type": "markdown",
   "metadata": {},
   "source": [
    "기록에서 추출한 텍스트 청크를 저장할 테이블을 생성합니다. 청크에 제목과 화자를 포함하여 컨텍스트를 제공"
   ]
  },
  {
   "cell_type": "code",
   "execution_count": null,
   "metadata": {
    "vscode": {
     "languageId": "sql"
    }
   },
   "outputs": [],
   "source": [
    "CREATE TABLE cortex_search_tutorial_db.public.book_description_chunks AS (\n",
    "    SELECT\n",
    "        books.*,\n",
    "        t.CHUNK as CHUNK\n",
    "    FROM cortex_search_tutorial_db.public.books_dataset_raw books,\n",
    "        TABLE(cortex_search_tutorial_db.public.books_chunk(books.description, books.title, books.authors, books.category, books.publisher)) t\n",
    ");"
   ]
  },
  {
   "cell_type": "markdown",
   "metadata": {},
   "source": [
    "테이블 내용을 확인합니다."
   ]
  },
  {
   "cell_type": "code",
   "execution_count": null,
   "metadata": {
    "vscode": {
     "languageId": "sql"
    }
   },
   "outputs": [],
   "source": [
    "SELECT chunk, * FROM book_description_chunks LIMIT 10;"
   ]
  },
  {
   "cell_type": "markdown",
   "metadata": {},
   "source": [
    "## STEP05.Cortex Search Service 만들기"
   ]
  },
  {
   "cell_type": "markdown",
   "metadata": {},
   "source": [
    "**book_description_chunks** 의 청크를 검색할 수 있도록 테이블에 Cortex Search Service를 생성"
   ]
  },
  {
   "cell_type": "code",
   "execution_count": null,
   "metadata": {
    "vscode": {
     "languageId": "sql"
    }
   },
   "outputs": [],
   "source": [
    "CREATE CORTEX SEARCH SERVICE cortex_search_tutorial_db.public.books_dataset_service\n",
    "    ON CHUNK\n",
    "    WAREHOUSE = cortex_search_tutorial_wh\n",
    "    TARGET_LAG = '1 hour'\n",
    "    AS (\n",
    "        SELECT *\n",
    "        FROM cortex_search_tutorial_db.public.book_description_chunks\n",
    "    );"
   ]
  }
 ],
 "metadata": {
  "language_info": {
   "name": "python"
  }
 },
 "nbformat": 4,
 "nbformat_minor": 2
}
