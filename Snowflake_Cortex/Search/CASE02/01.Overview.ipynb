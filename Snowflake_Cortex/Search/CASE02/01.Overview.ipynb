{
 "cells": [
  {
   "cell_type": "markdown",
   "metadata": {},
   "source": [
    "## Case01 채팅 애플리케이션 개발"
   ]
  },
  {
   "cell_type": "markdown",
   "metadata": {},
   "source": [
    "Cortex Search와 COMPLETE (SNOWFLAKE.CORTEX) 함수를 사용   \n",
    "\n",
    "Snowflake에서 RAG(Retrieval-Augmented Generation) 챗봇을 설정"
   ]
  },
  {
   "cell_type": "markdown",
   "metadata": {},
   "source": [
    "- Kaggle에서 다운로드한 데이터 세트를 기반으로 Cortex Search Service를 생성합니다.\n",
    "\n",
    "- Cortex Search Service를 쿼리할 수 있는 Streamlit in Snowflake 앱을 생성합니다"
   ]
  },
  {
   "cell_type": "markdown",
   "metadata": {},
   "source": [
    "### STEP01. 설정하기"
   ]
  },
  {
   "cell_type": "markdown",
   "metadata": {},
   "source": [
    "Kaggle에 호스팅된 샘플 데이터 세트를 사용 : Books 데이터 세트는 도서 이름, 제목, 설명의 컬렉션   \n",
    "\n",
    "데이터 세트 : https://www.kaggle.com/datasets/elvinrustam/books-dataset/data "
   ]
  },
  {
   "cell_type": "markdown",
   "metadata": {},
   "source": [
    "---"
   ]
  },
  {
   "cell_type": "markdown",
   "metadata": {},
   "source": [
    "### SNOWFLAKE   \n",
    "데이터베이스, 테이블, 웨어하우스 만들기"
   ]
  },
  {
   "cell_type": "code",
   "execution_count": null,
   "metadata": {
    "vscode": {
     "languageId": "sql"
    }
   },
   "outputs": [],
   "source": [
    "CREATE DATABASE IF NOT EXISTS cortex_search_tutorial_db;\n",
    "\n",
    "CREATE OR REPLACE WAREHOUSE cortex_search_tutorial_wh WITH\n",
    "    WAREHOUSE_SIZE='X-SMALL'\n",
    "    AUTO_SUSPEND = 120\n",
    "    AUTO_RESUME = TRUE\n",
    "    INITIALLY_SUSPENDED=TRUE;\n",
    "\n",
    "USE WAREHOUSE cortex_search_tutorial_wh;"
   ]
  },
  {
   "cell_type": "markdown",
   "metadata": {},
   "source": [
    "CREATE DATABASE 문으로 데이터베이스를 만듭니다. 데이터베이스에는 ‘public’이라는 스키마가 자동으로 포함됩니다.   \n",
    "CREATE WAREHOUSE 문으로 처음에 일시 중단되는 웨어하우스를 만듭니다. 또한 이 문으로 AUTO_RESUME = true 가 설정되어, 컴퓨팅 리소스가 필요한 SQL 문을 실행할 때 웨어하우스를 자동으로 시작하게 됩니다."
   ]
  }
 ],
 "metadata": {
  "language_info": {
   "name": "python"
  }
 },
 "nbformat": 4,
 "nbformat_minor": 2
}
