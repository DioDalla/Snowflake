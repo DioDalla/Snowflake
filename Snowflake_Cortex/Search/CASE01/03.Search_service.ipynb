{
 "cells": [
  {
   "cell_type": "markdown",
   "metadata": {},
   "source": [
    "## STEP03.Snowflake 검색 서비스 만들기"
   ]
  },
  {
   "cell_type": "markdown",
   "metadata": {},
   "source": [
    "SQL 명령을 실행하여 새 테이블에 대한 검색 서비스를 생성"
   ]
  },
  {
   "cell_type": "code",
   "execution_count": null,
   "metadata": {
    "vscode": {
     "languageId": "sql"
    }
   },
   "outputs": [],
   "source": [
    "CREATE OR REPLACE CORTEX SEARCH SERVICE cortex_search_tutorial_db.public.airbnb_svc\n",
    "ON listing_text\n",
    "ATTRIBUTES room_type, amenities\n",
    "WAREHOUSE = cortex_search_tutorial_wh\n",
    "TARGET_LAG = '1 hour'\n",
    "AS\n",
    "    SELECT\n",
    "        room_type,\n",
    "        amenities,\n",
    "        price,\n",
    "        cancellation_policy,\n",
    "        ('Summary\\n\\n' || summary || '\\n\\n\\nDescription\\n\\n' || description || '\\n\\n\\nSpace\\n\\n' || space) as listing_text\n",
    "    FROM\n",
    "    cortex_search_tutorial_db.public.airbnb_listings;"
   ]
  },
  {
   "cell_type": "markdown",
   "metadata": {},
   "source": [
    "**ON** 매개 변수는 검색할 쿼리의 열을 지정합니다. 이 경우, 소스 쿼리에서 기본 테이블에 있는 여러 텍스트 열의 연결로 생성되는 **listing_text** 입니다.\n",
    "\n",
    "**ATTRIBUTES** 매개 변수는 검색 결과를 필터링할 수 있는 열을 지정합니다. 이 예제는 **listing_text** 열에 쿼리를 발행할 때 **room_type** 및 **amenities** 에 필터링합니다.\n",
    "\n",
    "**WAREHOUSE** 및 **TARGET_LAG** 매개 변수는 각각 사용자가 제공한 웨어하우스와 검색 서비스의 원하는 최신성을 지정합니다. 이 예제에서는 **cortex_search_tutorial_wh** 웨어하우스를 사용하여 인덱스를 생성하고 새로 고침을 수행하며, 소스 테이블 **AIRBNB_LISTINGS** 뒤에 서비스를 **'1 hour'** 이하로 유지하도록 지정합니다.\n",
    "\n",
    "AS 필드는 서비스의 소스 테이블을 정의합니다. 이 예제에서는 원래 테이블의 여러 텍스트 열을 검색 열 **listing_text** 로 연결하여 쿼리가 여러 필드를 검색할 수 있도록 합니다."
   ]
  },
  {
   "cell_type": "markdown",
   "metadata": {},
   "source": []
  }
 ],
 "metadata": {
  "language_info": {
   "name": "python"
  }
 },
 "nbformat": 4,
 "nbformat_minor": 2
}
