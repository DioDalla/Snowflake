{
 "cells": [
  {
   "cell_type": "markdown",
   "metadata": {},
   "source": [
    "## 📌 Verified Query Repository (VQR) 활용하기\n",
    "**Cortex Analyst의 Verified Query Repository (VQR)**는 신뢰할 수 있는 SQL 쿼리 집합을 제공하여 결과의 정확성과 신뢰성을 높이는 역할을 합니다.\n",
    "이를 통해 자주 묻는 질문과 해당 SQL 쿼리를 미리 정의하여, 유사한 질문에 대해 일관된 결과를 반환할 수 있습니다."
   ]
  },
  {
   "cell_type": "markdown",
   "metadata": {},
   "source": [
    "### 🔹 Verified Query 추가하기\n",
    "VQR은 semantic model YAML 파일의 verified_queries 섹션에서 관리됩니다."
   ]
  },
  {
   "cell_type": "markdown",
   "metadata": {},
   "source": [
    "#### 📌 예제: 특정 월별 최소 매출과 해당 날짜 찾기"
   ]
  },
  {
   "cell_type": "code",
   "execution_count": null,
   "metadata": {
    "vscode": {
     "languageId": "plaintext"
    }
   },
   "outputs": [],
   "source": [
    "verified_queries:\n",
    "  name: \"lowest revenue each month\"\n",
    "  question: \"For each month, what was the lowest daily revenue and on what date did that lowest revenue occur?\"\n",
    "  sql: \"WITH monthly_min_revenue AS (\n",
    "          SELECT\n",
    "            DATE_TRUNC('MONTH', date) AS month,\n",
    "            MIN(daily_revenue) AS min_revenue\n",
    "          FROM daily_revenue\n",
    "          GROUP BY DATE_TRUNC('MONTH', date)\n",
    "        )\n",
    "        SELECT\n",
    "          mmr.month,\n",
    "          mmr.min_revenue,\n",
    "          dr.date AS min_revenue_date\n",
    "        FROM monthly_min_revenue AS mmr\n",
    "        JOIN daily_revenue AS dr\n",
    "          ON mmr.month = DATE_TRUNC('MONTH', dr.date) \n",
    "          AND mmr.min_revenue = dr.daily_revenue\n",
    "        ORDER BY mmr.month DESC NULLS LAST\"\n",
    "  verified_at: 1715187400\n",
    "  verified_by: Jane\n"
   ]
  },
  {
   "cell_type": "markdown",
   "metadata": {},
   "source": [
    "✅ 해당 쿼리는:\n",
    "\n",
    "월별 최소 daily_revenue를 찾고\n",
    "해당 최소 매출이 발생한 날짜를 반환합니다."
   ]
  },
  {
   "cell_type": "markdown",
   "metadata": {},
   "source": [
    "### 🔹 Streamlit 기반 VQR 관리 앱 사용법\n",
    "Snowflake는 오픈 소스 Streamlit 애플리케이션을 제공하여, Verified Queries를 쉽게 추가할 수 있도록 지원합니다."
   ]
  },
  {
   "cell_type": "markdown",
   "metadata": {},
   "source": [
    "#### 📌 설치 및 사용 방법\n",
    "##### 1️⃣ semantic-model-generator 저장소를 클론\n",
    "- README 파일을 참고하여 Snowflake 인증 정보를 설정합니다.\n",
    "##### 2️⃣ Streamlit Admin App 실행\n",
    "- admin_app 디렉터리에서 의존성을 설치하고 앱을 실행합니다.\n",
    "##### 3️⃣ Semantic Model 파일 등록\n",
    "- 데이터베이스, 스키마, YAML 파일 경로를 입력하면 인터랙티브 편집기에 YAML 파일이 표시됩니다.\n",
    "##### 4️⃣ 질문 입력 및 SQL 쿼리 생성\n",
    "- 우측 채팅 인터페이스에서 원하는 질문을 입력하면 SQL 쿼리가 자동 생성됩니다.\n",
    "##### 5️⃣ 쿼리 검토 및 저장\n",
    "- 생성된 SQL 쿼리를 실행하여 결과를 확인합니다.\n",
    "- 정확하면 Save as verified query 버튼을 클릭하여 저장합니다.\n",
    "##### 6️⃣ 쿼리 수정 및 테스트\n",
    "- 잘못된 경우 Edit 버튼을 눌러 SQL을 수정한 후 다시 실행합니다.\n",
    "- 원하는 결과가 나오면 Save as verified query로 저장합니다.\n",
    "##### 7️⃣ Semantic Model 저장 및 업로드\n",
    "- Save 버튼을 눌러 YAML 파일을 업데이트합니다.\n",
    "- Upload 버튼을 눌러 새로운 YAML 파일로 저장합니다.\n",
    "##### 8️⃣ SiS 애플리케이션 코드 수정\n",
    "- 새로운 Semantic Model YAML 파일 경로를 반영하여 Cortex Analyst를 기존과 동일하게 사용합니다."
   ]
  },
  {
   "cell_type": "markdown",
   "metadata": {},
   "source": [
    "#### ✅ VQR 활용 시 고려할 사항\n",
    "1. ✔ 자주 묻는 질문과 SQL 쿼리를 미리 등록하면 Cortex Analyst의 답변 정확도를 향상시킬 수 있습니다.\n",
    "2. ✔ 검증된 쿼리(Verified Queries)는 모델의 학습에 반영되므로, 일관된 결과 제공이 가능합니다.\n",
    "3. ✔ Streamlit 앱을 활용하면 YAML 편집 없이도 쉽게 VQR을 추가 및 관리할 수 있습니다."
   ]
  },
  {
   "cell_type": "markdown",
   "metadata": {},
   "source": [
    "---"
   ]
  },
  {
   "cell_type": "markdown",
   "metadata": {},
   "source": [
    "## 🎉 Quickstart 완료! – 결론 및 추가 자료\n",
    "이번 Quickstart를 통해 Cortex Analyst를 활용하여 자연어 기반 데이터 분석을 수행하는 방법을 익혔습니다. 이를 통해 비즈니스 사용자가 구조화된 데이터를 기반으로 신뢰할 수 있는 답변을 얻을 수 있는 환경을 구축할 수 있습니다."
   ]
  },
  {
   "cell_type": "markdown",
   "metadata": {},
   "source": [
    "### 📌 이번 Quickstart에서 배운 내용"
   ]
  },
  {
   "cell_type": "markdown",
   "metadata": {},
   "source": [
    "#### ✅ Semantic Model YAML 파일 생성 방법\n",
    "\n",
    "- 테이블, 컬럼, 관계를 정의하는 방법\n",
    "- Logical Tables, Logical Columns, Relationships 개념 이해\n",
    "#### ✅ Cortex Analyst REST API와 Snowflake Streamlit (SiS) 인터페이스 연동\n",
    "\n",
    "- Streamlit 앱을 활용하여 자연어 질문을 입력하고 SQL 쿼리 생성\n",
    "- 분석 결과를 기반으로 Verified Query 저장\n",
    "#### ✅ Cortex Search와 Cortex Analyst 통합 방법\n",
    "\n",
    "- 자연어 기반 검색을 강화하여 빠르고 정확한 데이터 분석 가능"
   ]
  },
  {
   "cell_type": "markdown",
   "metadata": {},
   "source": [
    "---"
   ]
  },
  {
   "cell_type": "markdown",
   "metadata": {},
   "source": [
    "#### 📚 추가 자료 (Related Resources)\n",
    "##### 📌 📂 Source Code on GitHub - 🔗 Cortex Analyst GitHub 저장소 (링크 예시)\n",
    "##### 📌 📖 Cortex Analyst 공식 문서 - 🔗 Cortex Analyst Documentation\n",
    "##### 📌 📊 Cortex Analyst 예제 모음 - 🔗 Cortex Analyst Examples\n",
    "##### 📌 🛠 Semantic Model Generator - 🔗 Semantic Model Generator"
   ]
  }
 ],
 "metadata": {
  "language_info": {
   "name": "python"
  }
 },
 "nbformat": 4,
 "nbformat_minor": 2
}
