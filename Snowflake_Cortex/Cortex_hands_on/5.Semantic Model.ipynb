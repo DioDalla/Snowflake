{
 "cells": [
  {
   "cell_type": "markdown",
   "metadata": {},
   "source": [
    "## 📌 Cortex Analyst의 Semantic Model 개요\n",
    "revenue_timeseries.yaml 파일은 Cortex Analyst가 자연어 기반 쿼리를 실행하는 핵심 요소입니다. 이 YAML 파일을 통해 Analyst가 사용할 수 있는 테이블, 컬럼, 관계 등을 정의합니다."
   ]
  },
  {
   "cell_type": "markdown",
   "metadata": {},
   "source": [
    "### 🔹 Semantic Model의 주요 구성 요소\n",
    "\n",
    "#### 1️⃣ Logical Tables (논리적 테이블)\n",
    "**데이터베이스 내의 테이블 또는 뷰(View)**를 의미합니다.\n",
    "별다른 변형 없이 그대로 사용됩니다.\n",
    "\n",
    "#### 2️⃣ Logical Columns (논리적 컬럼)\n",
    "실제 물리적 컬럼을 참조하거나 표현식(Expressions) 으로 정의됩니다.\n",
    "컬럼 유형:\n",
    "1. dimensions (차원): 범주형 데이터 (예: 제품군, 국가)\n",
    "2. time_dimensions (시간 차원): 날짜 및 시간 관련 데이터 (예: 날짜, 시간)\n",
    "3. measures (측정값): 수량을 나타내는 값 (예: 매출, 이익)"
   ]
  },
  {
   "cell_type": "markdown",
   "metadata": {},
   "source": [
    "##### 📌 예제 1: daily_revenue (물리적 컬럼을 참조)"
   ]
  },
  {
   "cell_type": "code",
   "execution_count": null,
   "metadata": {
    "vscode": {
     "languageId": "plaintext"
    }
   },
   "outputs": [],
   "source": [
    "measures:\n",
    "    - name: daily_revenue\n",
    "      expr: revenue\n",
    "      description: total revenue for the given day\n",
    "      synonyms: [\"sales\", \"income\"]\n",
    "      default_aggregation: sum\n",
    "      data_type: number\n"
   ]
  },
  {
   "cell_type": "markdown",
   "metadata": {},
   "source": [
    "##### 📌 예제 2: daily_profit (표현식을 사용하여 정의)"
   ]
  },
  {
   "cell_type": "code",
   "execution_count": null,
   "metadata": {
    "vscode": {
     "languageId": "plaintext"
    }
   },
   "outputs": [],
   "source": [
    "measures:\n",
    "    - name: daily_profit\n",
    "      description: profit is the difference between revenue and expenses.\n",
    "      expr: revenue - cogs\n",
    "      data_type: number"
   ]
  },
  {
   "cell_type": "markdown",
   "metadata": {},
   "source": [
    "---"
   ]
  },
  {
   "cell_type": "markdown",
   "metadata": {},
   "source": [
    "### 🔹 시간 차원 (Time Dimensions) & 일반 차원 (Dimensions)"
   ]
  },
  {
   "cell_type": "markdown",
   "metadata": {},
   "source": [
    "#### 📌 예제 3: date (시간 차원)"
   ]
  },
  {
   "cell_type": "code",
   "execution_count": null,
   "metadata": {
    "vscode": {
     "languageId": "plaintext"
    }
   },
   "outputs": [],
   "source": [
    "time_dimensions:\n",
    "    - name: date\n",
    "      expr: date\n",
    "      description: 날짜별 매출, COGS, 예상 매출 데이터\n",
    "      unique: false\n",
    "      data_type: date\n"
   ]
  },
  {
   "cell_type": "markdown",
   "metadata": {},
   "source": [
    "#### 📌 예제 4: product_line (일반 차원)"
   ]
  },
  {
   "cell_type": "code",
   "execution_count": null,
   "metadata": {
    "vscode": {
     "languageId": "plaintext"
    }
   },
   "outputs": [],
   "source": [
    "dimensions:\n",
    "    - name: product_line\n",
    "      expr: product_line\n",
    "      description: 제품 라인별 매출\n",
    "      unique: false\n",
    "      data_type: varchar\n",
    "      sample_values:\n",
    "          - Electronics\n",
    "          - Clothing\n",
    "          - Home Appliances\n",
    "          - Toys\n",
    "          - Books\n"
   ]
  },
  {
   "cell_type": "markdown",
   "metadata": {},
   "source": [
    "### 🔹 테이블 간 관계 (Relationships)\n",
    "\n",
    "두 테이블 간의 관계를 정의하여 JOIN을 수행할 수 있도록 설정합니다"
   ]
  },
  {
   "cell_type": "markdown",
   "metadata": {},
   "source": [
    "#### 📌 예제 5: daily_revenue ↔ product (매출과 제품 테이블 간 관계)"
   ]
  },
  {
   "cell_type": "code",
   "execution_count": null,
   "metadata": {
    "vscode": {
     "languageId": "plaintext"
    }
   },
   "outputs": [],
   "source": [
    "relationships:\n",
    "  - name: revenue_to_product\n",
    "    left_table: daily_revenue\n",
    "    right_table: product\n",
    "    relationship_columns:\n",
    "      - left_column: product_id\n",
    "        right_column: product_id\n",
    "    join_type: left_outer\n",
    "    relationship_type: many_to_one\n"
   ]
  },
  {
   "cell_type": "markdown",
   "metadata": {},
   "source": [
    "---"
   ]
  },
  {
   "cell_type": "markdown",
   "metadata": {},
   "source": [
    "### ✅ Semantic Model 작성 가이드\n",
    "\n",
    "#### ✔ 최종 사용자 관점에서 설계\n",
    "\n",
    "- 비즈니스 사용자가 신뢰할 수 있도록 정확성 확보\n",
    "- 관련 도메인/토픽별로 정리하여 가독성 향상\n",
    "- 불필요한 컬럼은 제외 (테이블 35개, 컬럼 1020개 권장)\n",
    "\n",
    "#### ✔ 모델 성능 향상 팁\n",
    "\n",
    "- 자주 사용하는 쿼리는 Expressions로 정의하여 모델의 응답 성능 개선\n",
    "- Verified Queries 활용: 검증된 쿼리를 제공하면 모델의 정답률이 증가\n",
    "- 조직별 특수 로직을 반영: Verified Queries에 추가하여 활용 가능\n",
    "\n",
    "#### ✔ 단순하고 작은 범위에서 시작\n",
    "\n",
    "- 처음에는 작은 범위로 시작하고 점진적으로 확장\n",
    "- YAML 작성은 반복적인 개선 과정이 필요"
   ]
  }
 ],
 "metadata": {
  "language_info": {
   "name": "python"
  }
 },
 "nbformat": 4,
 "nbformat_minor": 2
}
