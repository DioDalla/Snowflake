{
 "cells": [
  {
   "cell_type": "markdown",
   "metadata": {},
   "source": [
    "## Cortex Analyst Quickstart Guide"
   ]
  },
  {
   "cell_type": "markdown",
   "metadata": {},
   "source": [
    "### 1. Overview\n",
    "Cortex Analyst는 **Snowflake 데이터를 자연어로 분석할 수 있는 완전 관리형 서비스**입니다.  \n",
    "이는 직관적이고 정확한 분석을 제공하는 인터페이스로, 개발자가 사용자 친화적인 분석 앱을 빠르게 구축하도록 지원합니다.\n"
   ]
  },
  {
   "cell_type": "markdown",
   "metadata": {},
   "source": [
    "### 2. Cortex Analyst란?\n",
    "- **대화형 인터페이스**로 Snowflake 내 구조화된 데이터를 자연어 질의로 분석 가능\n",
    "- **최신 LLM 기술 기반**의 높은 text-to-SQL 정확성 제공\n",
    "- REST API를 통해 다양한 애플리케이션에 쉽게 통합 가능\n",
    "- Snowflake의 보안 및 RBAC 기능을 활용하여 데이터 보호\n",
    "\n",
    " ![Cortex Analyst 구조](https://quickstarts.snowflake.com/guide/getting_started_with_cortex_analyst/img/ce1884edb1e7415c.png)"
   ]
  },
  {
   "cell_type": "markdown",
   "metadata": {},
   "source": [
    "### 3. Cortex Analyst의 필요성\n",
    "- 기존 BI 대시보드 및 리포트는 유연성이 부족하여 신속한 의사결정이 어려움\n",
    "- Cortex Analyst는 실시간에 가까운 정확한 응답을 통해 비즈니스 사용자의 독립성을 강화\n",
    "- 자연어 질의로 데이터를 신속하게 분석하여 생산성 증가\n"
   ]
  },
  {
   "cell_type": "markdown",
   "metadata": {},
   "source": [
    "### 4. Quickstart에서 배울 내용\n",
    "- 데이터의 **Semantic Model 구축 및 설정 방법**\n",
    "- Streamlit in Snowflake (SiS) 앱에서 Semantic Model을 사용하여 **자연어 질의를 처리하는 Cortex Analyst REST API 호출법**\n",
    "- Cortex Search와의 통합으로 **SQL 질의 품질 향상**\n",
    "- Star Schema의 **Join 지원 활성화 방법**\n",
    "- **다중 대화형 질의(multi-turn conversations) 활성화**\n"
   ]
  },
  {
   "cell_type": "markdown",
   "metadata": {},
   "source": [
    "### 5. 사전 준비사항\n",
    "- Git 설치\n",
    "- 제공된 Git 리포지토리 다운로드\n",
    "- Python (선택사항): 버전 3.9 ~ 3.11 설치 (OSS Semantic Model Generator 사용 시)\n",
    "- Snowflake 계정: 데이터베이스, 스키마, 테이블, 스테이지, UDF, 저장 프로시저 생성 권한이 있는 역할 필요\n",
    "- https://github.com/Snowflake-Labs/sfguide-getting-started-with-cortex-analyst.git"
   ]
  },
  {
   "cell_type": "markdown",
   "metadata": {},
   "source": [
    "### 6. 완성할 내용\n",
    "- 금융 데이터를 활용한 **Semantic Model**\n",
    "- Cortex Analyst의 자연어 인터페이스를 활용하는 **Streamlit in Snowflake 앱** 구축\n",
    "![완성한화면](https://quickstarts.snowflake.com/guide/getting_started_with_cortex_analyst/img/cc2a9fdbc512514a.png)"
   ]
  }
 ],
 "metadata": {
  "language_info": {
   "name": "python"
  }
 },
 "nbformat": 4,
 "nbformat_minor": 2
}
